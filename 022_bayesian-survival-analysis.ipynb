{
 "cells": [
  {
   "cell_type": "markdown",
   "id": "collaborative-trial",
   "metadata": {},
   "source": [
    "# Bayesian Survival Analysis\n",
    "\n",
    "**[Original tutorial](https://docs.pymc.io/notebooks/survival_analysis.html)**\n",
    "\n",
    "Survival analysis studies the distribution of the time to an event.\n",
    "This tutorial will use data on mastectomy results."
   ]
  },
  {
   "cell_type": "code",
   "execution_count": 1,
   "id": "excited-johnson",
   "metadata": {},
   "outputs": [],
   "source": [
    "import numpy as np\n",
    "import pandas as pd\n",
    "import plotnine as gg\n",
    "import pymc3 as pm\n",
    "import seaborn as sns\n",
    "from matplotlib import pyplot as plt\n",
    "from pymc3.distributions.timeseries import GaussianRandomWalk\n",
    "from theano import tensor as tt\n",
    "\n",
    "gg.theme_set(gg.theme_minimal)\n",
    "%config InlineBackend.figure_format = \"retina\"\n",
    "RANDOM_SEED = 601\n",
    "np.random.seed(RANDOM_SEED)"
   ]
  },
  {
   "cell_type": "markdown",
   "id": "attractive-revision",
   "metadata": {},
   "source": [
    "## Data\n",
    "\n",
    "Each row in the data represents an observation from a woman diagnosed with breast cancer that underwent a mastectomy.\n",
    "The column `time` represents the months post-surgery that the woman was observed.\n",
    "The column `event` indicates whether or not the woman died during the observation period.\n",
    "The column `metastized` indicates whether the cancer had metastized prior to surgery."
   ]
  },
  {
   "cell_type": "code",
   "execution_count": 7,
   "id": "perfect-sampling",
   "metadata": {},
   "outputs": [
    {
     "data": {
      "text/html": [
       "<div>\n",
       "<style scoped>\n",
       "    .dataframe tbody tr th:only-of-type {\n",
       "        vertical-align: middle;\n",
       "    }\n",
       "\n",
       "    .dataframe tbody tr th {\n",
       "        vertical-align: top;\n",
       "    }\n",
       "\n",
       "    .dataframe thead th {\n",
       "        text-align: right;\n",
       "    }\n",
       "</style>\n",
       "<table border=\"1\" class=\"dataframe\">\n",
       "  <thead>\n",
       "    <tr style=\"text-align: right;\">\n",
       "      <th></th>\n",
       "      <th>time</th>\n",
       "      <th>event</th>\n",
       "      <th>metastized</th>\n",
       "    </tr>\n",
       "  </thead>\n",
       "  <tbody>\n",
       "    <tr>\n",
       "      <th>0</th>\n",
       "      <td>23</td>\n",
       "      <td>1</td>\n",
       "      <td>0</td>\n",
       "    </tr>\n",
       "    <tr>\n",
       "      <th>1</th>\n",
       "      <td>47</td>\n",
       "      <td>1</td>\n",
       "      <td>0</td>\n",
       "    </tr>\n",
       "    <tr>\n",
       "      <th>2</th>\n",
       "      <td>69</td>\n",
       "      <td>1</td>\n",
       "      <td>0</td>\n",
       "    </tr>\n",
       "    <tr>\n",
       "      <th>3</th>\n",
       "      <td>70</td>\n",
       "      <td>0</td>\n",
       "      <td>0</td>\n",
       "    </tr>\n",
       "    <tr>\n",
       "      <th>4</th>\n",
       "      <td>100</td>\n",
       "      <td>0</td>\n",
       "      <td>0</td>\n",
       "    </tr>\n",
       "  </tbody>\n",
       "</table>\n",
       "</div>"
      ],
      "text/plain": [
       "   time  event  metastized\n",
       "0    23      1           0\n",
       "1    47      1           0\n",
       "2    69      1           0\n",
       "3    70      0           0\n",
       "4   100      0           0"
      ]
     },
     "execution_count": 7,
     "metadata": {},
     "output_type": "execute_result"
    }
   ],
   "source": [
    "df = pd.read_csv(pm.get_data(\"mastectomy.csv\"))\n",
    "df[\"event\"] = df.event.astype(np.int64)\n",
    "df[\"metastized\"] = (df.metastized == \"yes\").astype(np.int64)\n",
    "n_patients = df.shape[0]\n",
    "patients = np.arange(n_patients)\n",
    "\n",
    "df.head()"
   ]
  },
  {
   "cell_type": "code",
   "execution_count": 8,
   "id": "final-month",
   "metadata": {},
   "outputs": [
    {
     "data": {
      "text/plain": [
       "44"
      ]
     },
     "execution_count": 8,
     "metadata": {},
     "output_type": "execute_result"
    }
   ],
   "source": [
    "n_patients"
   ]
  },
  {
   "cell_type": "markdown",
   "id": "ongoing-storage",
   "metadata": {},
   "source": [
    "## A \"crash course\" on survival analysis\n",
    "\n",
    "If the random variable $T$ is the time to the even we are studying, then survival anylsis is concerned with the survival function\n",
    "\n",
    "$$\n",
    "S(t) = P(T > t) = 1 - F(t)\n",
    "$$\n",
    "\n",
    "where $F$ is the CDF of $T$.\n",
    "It is convenient the express the survival function in terms of the **hazard rate** $\\lambda(t)$: the instantaneous propbability that the event occurs at time $t$ given it has yet to occur.\n",
    "That is,\n",
    "\n",
    "$$\n",
    "\\begin{align}\n",
    "\\lambda(t) &= \\lim_{\\Delta t \\to 0} \\frac{P(t < T < t + \\Delta t | T > t)}{\\Delta t} \\\\\n",
    "&= \\lim_{\\Delta t \\to 0} \\frac{P(t < T < t + \\Delta t)}{\\Delta t \\cdot P(T > t)} \\\\\n",
    "&= \\frac{1}{S(t)} \\cdot \\lim_{\\Delta t \\to 0} \\frac{S(t + \\Delta t) - S(t)}{\\Delta t} = - \\frac{S'(t)}{S(t)} \\\\\n",
    "\\end{align}\n",
    "$$\n",
    "\n",
    "Solving this differential equation for the survival function demonstrates\n",
    "\n",
    "$$\n",
    "S(t) = \\exp \\lgroup - \\int_{0}^{s} \\lambda(s) ds \\rgroup\n",
    "$$\n",
    "\n",
    "Which inturn shows that the cumulative hazard function\n",
    "\n",
    "$$\n",
    "\\Lambda(t) = \\int_0^t \\lambda(s) ds\n",
    "$$\n",
    "\n",
    "is an important quantity in survival analysis which we can concisely write as\n",
    "\n",
    "$$\n",
    "S(t) = \\exp(- Lambda(t))\n",
    "$$\n",
    "\n",
    "An important part of survival analysis is **censoring** because we will not observe the death of every subject.\n",
    "For our data, the column `event` is 1 if the subject's death ws observed and a 0 is the death was not observed (censored).\n",
    "The time for a censored data point is *not* the subject's survival time, but, instead, we assume the subject's true survival time exceeds the time point."
   ]
  },
  {
   "cell_type": "code",
   "execution_count": 9,
   "id": "stock-minnesota",
   "metadata": {},
   "outputs": [
    {
     "data": {
      "text/html": [
       "<div>\n",
       "<style scoped>\n",
       "    .dataframe tbody tr th:only-of-type {\n",
       "        vertical-align: middle;\n",
       "    }\n",
       "\n",
       "    .dataframe tbody tr th {\n",
       "        vertical-align: top;\n",
       "    }\n",
       "\n",
       "    .dataframe thead th {\n",
       "        text-align: right;\n",
       "    }\n",
       "</style>\n",
       "<table border=\"1\" class=\"dataframe\">\n",
       "  <thead>\n",
       "    <tr style=\"text-align: right;\">\n",
       "      <th></th>\n",
       "      <th>time</th>\n",
       "      <th>event</th>\n",
       "      <th>metastized</th>\n",
       "    </tr>\n",
       "  </thead>\n",
       "  <tbody>\n",
       "    <tr>\n",
       "      <th>0</th>\n",
       "      <td>23</td>\n",
       "      <td>1</td>\n",
       "      <td>0</td>\n",
       "    </tr>\n",
       "    <tr>\n",
       "      <th>1</th>\n",
       "      <td>47</td>\n",
       "      <td>1</td>\n",
       "      <td>0</td>\n",
       "    </tr>\n",
       "    <tr>\n",
       "      <th>2</th>\n",
       "      <td>69</td>\n",
       "      <td>1</td>\n",
       "      <td>0</td>\n",
       "    </tr>\n",
       "    <tr>\n",
       "      <th>3</th>\n",
       "      <td>70</td>\n",
       "      <td>0</td>\n",
       "      <td>0</td>\n",
       "    </tr>\n",
       "    <tr>\n",
       "      <th>4</th>\n",
       "      <td>100</td>\n",
       "      <td>0</td>\n",
       "      <td>0</td>\n",
       "    </tr>\n",
       "  </tbody>\n",
       "</table>\n",
       "</div>"
      ],
      "text/plain": [
       "   time  event  metastized\n",
       "0    23      1           0\n",
       "1    47      1           0\n",
       "2    69      1           0\n",
       "3    70      0           0\n",
       "4   100      0           0"
      ]
     },
     "execution_count": 9,
     "metadata": {},
     "output_type": "execute_result"
    }
   ],
   "source": [
    "df.head()"
   ]
  },
  {
   "cell_type": "code",
   "execution_count": 19,
   "id": "annoying-dietary",
   "metadata": {},
   "outputs": [
    {
     "data": {
      "image/png": "[encoded data removed]",
      "text/plain": [
       "<Figure size 640x480 with 1 Axes>"
      ]
     },
     "metadata": {
      "image/png": {
       "height": 441,
       "width": 734
      },
      "needs_background": "light"
     },
     "output_type": "display_data"
    },
    {
     "data": {
      "text/plain": [
       "<ggplot: (353127903)>"
      ]
     },
     "execution_count": 19,
     "metadata": {},
     "output_type": "execute_result"
    }
   ],
   "source": [
    "plot_data = df.copy().reset_index(drop=False).rename(columns={\"index\": \"subject_id\"})\n",
    "\n",
    "(\n",
    "    gg.ggplot(plot_data, gg.aes(x=\"subject_id\", y=\"time\"))\n",
    "    + gg.geom_linerange(gg.aes(ymax=\"time\", color=\"factor(1-event)\"), ymin=0)\n",
    "    + gg.geom_point(gg.aes(alpha=\"factor(metastized)\"))\n",
    "    + gg.scale_color_brewer(\n",
    "        type=\"qual\", palette=\"Set1\", labels=(\"uncensored\", \"censored\")\n",
    "    )\n",
    "    + gg.scale_alpha_manual(values=(0, 1), labels=(\"not metastized\", \"metastized\"))\n",
    "    + gg.coord_flip()\n",
    "    + gg.theme(legend_title=gg.element_blank())\n",
    "    + gg.labs(x=\"subject\", y=\"months since mastectomy\")\n",
    ")"
   ]
  },
  {
   "cell_type": "markdown",
   "id": "olive-kernel",
   "metadata": {},
   "source": [
    "## Bayesian proportional hazards model\n",
    "\n",
    "Since our goal is to understand the impact of metastization on survival time, a risk regression model is appropriate.\n",
    "The most commonly used risk regression model is the Cox's proportional hazards model.\n",
    "In this model, with covariates $\\textbf{x}$ and regression coefficients $\\beta$, the hazard rate is modeled as\n",
    "\n",
    "$$\n",
    "\\lambda(t) = \\lambda_0 (t) \\exp(\\textbf{x} \\beta)\n",
    "$$\n",
    "\n",
    "Here, $\\lambda_0 (t)$ is the baseline hazard which is independent of the covariates $\\textbf{x}$.\n",
    "\n",
    "We need to specify priors for $\\beta$ and $\\lambda_0 (t)$.\n",
    "For $\\beta$, we can use a normal distribution $N(\\mu_\\beta, \\sigma^2_\\beta)$ and model set uniform priors on those parameters.\n",
    "\n",
    "Since $\\lambda_0 (t)$ is a piecewise constant function, its prior will be a semiparametric prior that requires us to partition the time range into intervals with endpoints $0 \\leq s_1 \\lt s_2 \\lt \\dots \\lt s_N$.\n",
    "With this partition, $\\lambda_0 (t) = \\lambda_j$ if $s_j \\leq t \\lt s_{j+1}$.\n",
    "With $\\lambda_0 (t)$ constrained to have this form, we just need to provide priors for the N-1 values $\\lambda_j$.\n",
    "We can use independent vague priors $\\lambda_j \\sim \\text{Gamma}(10^{-2}, 10^{-2})$ and each interval will be 3 months long."
   ]
  },
  {
   "cell_type": "code",
   "execution_count": null,
   "id": "iraqi-opposition",
   "metadata": {},
   "outputs": [],
   "source": []
  }
 ],
 "metadata": {
  "kernelspec": {
   "display_name": "Python 3",
   "language": "python",
   "name": "python3"
  },
  "language_info": {
   "codemirror_mode": {
    "name": "ipython",
    "version": 3
   },
   "file_extension": ".py",
   "mimetype": "text/x-python",
   "name": "python",
   "nbconvert_exporter": "python",
   "pygments_lexer": "ipython3",
   "version": "3.9.1"
  }
 },
 "nbformat": 4,
 "nbformat_minor": 5
}
