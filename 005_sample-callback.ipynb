{
 "cells": [
  {
   "cell_type": "markdown",
   "id": "passive-arnold",
   "metadata": {},
   "source": [
    "# Sample callback\n",
    "\n",
    "[Tutorial](https://docs.pymc.io/notebooks/sampling_callback.html)"
   ]
  },
  {
   "cell_type": "code",
   "execution_count": 21,
   "id": "behind-snake",
   "metadata": {},
   "outputs": [
    {
     "data": {
      "text/plain": [
       "plotnine.themes.theme_minimal.theme_minimal"
      ]
     },
     "execution_count": 21,
     "metadata": {},
     "output_type": "execute_result"
    }
   ],
   "source": [
    "from typing import Dict, List\n",
    "\n",
    "import arviz as az\n",
    "import matplotlib.pyplot as plt\n",
    "import numpy as np\n",
    "import pandas as pd\n",
    "import plotnine as gg\n",
    "import pymc3 as pm\n",
    "\n",
    "%config InlineBackend.figure_format = \"retina\"\n",
    "RANDOM_SEED = 8927\n",
    "np.random.seed(RANDOM_SEED)\n",
    "az.style.use(\"arviz-darkgrid\")\n",
    "gg.theme_set(gg.theme_minimal)"
   ]
  },
  {
   "cell_type": "markdown",
   "id": "through-invalid",
   "metadata": {},
   "source": [
    "**callback**: a function which gets called for every sample from the trace of a chain\n",
    "\n",
    "In PyMC3, the function is called with a single trace and current draw as arguments. Some usecaes:\n",
    "\n",
    "- stopping sampling when a number of effective samples or Rhat is reached\n",
    "- stopping sampling after too many divergences\n",
    "- logging metrics to external tools (e.g. Tensorboard)\n",
    "\n",
    "Below is a callback that stops sampling after 100 samples"
   ]
  },
  {
   "cell_type": "code",
   "execution_count": 14,
   "id": "subject-multimedia",
   "metadata": {},
   "outputs": [
    {
     "name": "stderr",
     "output_type": "stream",
     "text": [
      "Auto-assigning NUTS sampler...\n",
      "Initializing NUTS using jitter+adapt_diag...\n",
      "Sequential sampling (1 chains in 1 job)\n",
      "NUTS: [error, slope, intercept]\n"
     ]
    },
    {
     "data": {
      "text/html": [
       "\n",
       "    <div>\n",
       "        <style>\n",
       "            /* Turns off some styling */\n",
       "            progress {\n",
       "                /* gets rid of default border in Firefox and Opera. */\n",
       "                border: none;\n",
       "                /* Needs to be in here for Safari polyfill so background images work as expected. */\n",
       "                background-size: auto;\n",
       "            }\n",
       "            .progress-bar-interrupted, .progress-bar-interrupted::-webkit-progress-bar {\n",
       "                background: #F44336;\n",
       "            }\n",
       "        </style>\n",
       "      <progress value='86' class='' max='500' style='width:300px; height:20px; vertical-align: middle;'></progress>\n",
       "      17.20% [86/500 00:00<00:02 Sampling chain 0, 1 divergences]\n",
       "    </div>\n",
       "    "
      ],
      "text/plain": [
       "<IPython.core.display.HTML object>"
      ]
     },
     "metadata": {},
     "output_type": "display_data"
    },
    {
     "name": "stderr",
     "output_type": "stream",
     "text": [
      "Sampling 1 chain for 0 tune and 100 draw iterations (0 + 100 draws total) took 1 seconds.\n",
      "There was 1 divergence after tuning. Increase `target_accept` or reparameterize.\n",
      "The acceptance probability does not match the target. It is 0.6926582589473618, but should be close to 0.8. Try to increase the number of tuning steps.\n",
      "Only one chain was sampled, this makes it impossible to run some convergence checks\n"
     ]
    }
   ],
   "source": [
    "def my_callback(\n",
    "    trace: pm.backends.ndarray.NDArray, draw: pm.parallel_sampling.Draw\n",
    ") -> None:\n",
    "    if len(trace) >= 100:\n",
    "        raise KeyboardInterrupt()\n",
    "\n",
    "\n",
    "X = np.arange(1, 6)\n",
    "y = X * 2 + np.random.randn(len(X))\n",
    "\n",
    "with pm.Model() as model:\n",
    "    intercept = pm.Normal(\"intercept\", 0, 10)\n",
    "    slope = pm.Normal(\"slope\", 0, 10)\n",
    "\n",
    "    mean = intercept + slope * X\n",
    "    error = pm.HalfCauchy(\"error\", 1)\n",
    "\n",
    "    obs = pm.Normal(\"obs\", mean, error, observed=y)\n",
    "\n",
    "    trace = pm.sample(500, tune=0, chains=1, callback=my_callback)"
   ]
  },
  {
   "cell_type": "markdown",
   "id": "variable-governor",
   "metadata": {},
   "source": [
    "Each call back is only given a single chain.\n",
    "Thus, need to create a class in order to do calculations over multiple chains at once.\n",
    "Below is an example of stoping a chain after the Rhat is low enough to indicate convergence."
   ]
  },
  {
   "cell_type": "code",
   "execution_count": 22,
   "id": "identical-server",
   "metadata": {},
   "outputs": [
    {
     "name": "stderr",
     "output_type": "stream",
     "text": [
      "Auto-assigning NUTS sampler...\n",
      "Initializing NUTS using jitter+adapt_diag...\n",
      "Multiprocess sampling (2 chains in 2 jobs)\n",
      "NUTS: [error, slope, intercept]\n"
     ]
    },
    {
     "data": {
      "text/html": [
       "\n",
       "    <div>\n",
       "        <style>\n",
       "            /* Turns off some styling */\n",
       "            progress {\n",
       "                /* gets rid of default border in Firefox and Opera. */\n",
       "                border: none;\n",
       "                /* Needs to be in here for Safari polyfill so background images work as expected. */\n",
       "                background-size: auto;\n",
       "            }\n",
       "            .progress-bar-interrupted, .progress-bar-interrupted::-webkit-progress-bar {\n",
       "                background: #F44336;\n",
       "            }\n",
       "        </style>\n",
       "      <progress value='5670' class='' max='2002000' style='width:300px; height:20px; vertical-align: middle;'></progress>\n",
       "      0.28% [5670/2002000 00:10<1:03:48 Sampling 2 chains, 25 divergences]\n",
       "    </div>\n",
       "    "
      ],
      "text/plain": [
       "<IPython.core.display.HTML object>"
      ]
     },
     "metadata": {},
     "output_type": "display_data"
    },
    {
     "name": "stderr",
     "output_type": "stream",
     "text": [
      "Sampling 1 chain for 1_000 tune and 3_000 draw iterations (1_000 + 3_000 draws total) took 21 seconds.\n",
      "Only one chain was sampled, this makes it impossible to run some convergence checks\n"
     ]
    }
   ],
   "source": [
    "class MyRhatCheckingCallback:\n",
    "    def __init__(self, every: int = 1000, max_rhat: float = 1.05) -> None:\n",
    "        self.every = every\n",
    "        self.max_rhat = max_rhat\n",
    "        self.traces: Dict[int, pm.backends.ndarray.NDArray] = {}\n",
    "\n",
    "    def __call__(\n",
    "        self, trace: pm.backends.ndarray.NDArray, draw: pm.parallel_sampling.Draw\n",
    "    ) -> None:\n",
    "        if draw.tuning:\n",
    "            return\n",
    "\n",
    "        self.traces[draw.chain] = trace\n",
    "        if len(trace) % self.every == 0:\n",
    "            traces = self.get_trimmed_traces()\n",
    "            multitrace = pm.backends.base.MultiTrace(traces)\n",
    "            x = pm.stats.rhat(multitrace)\n",
    "            if x.to_array().max() < self.max_rhat:\n",
    "                raise KeyboardInterrupt()\n",
    "\n",
    "    def get_trimmed_traces(self) -> List[pm.backends.ndarray.NDArray]:\n",
    "        traces = list(self.traces.values())\n",
    "        trace_min_length = np.min([len(t) for t in traces])\n",
    "        return [t[:trace_min_length] for t in traces]\n",
    "\n",
    "\n",
    "with model:\n",
    "    trace = pm.sample(\n",
    "        tune=1000, draws=1000000, callback=MyRhatCheckingCallback(), chains=2, cores=2\n",
    "    )"
   ]
  },
  {
   "cell_type": "markdown",
   "id": "second-ceramic",
   "metadata": {},
   "source": [
    "---"
   ]
  },
  {
   "cell_type": "code",
   "execution_count": 23,
   "id": "sensitive-preservation",
   "metadata": {},
   "outputs": [
    {
     "name": "stdout",
     "output_type": "stream",
     "text": [
      "Last updated: Fri Jan 22 2021\n",
      "\n",
      "Python implementation: CPython\n",
      "Python version       : 3.9.1\n",
      "IPython version      : 7.19.0\n",
      "\n",
      "arviz     : 0.11.0\n",
      "pandas    : 1.2.0\n",
      "pymc3     : 3.9.3\n",
      "numpy     : 1.19.5\n",
      "matplotlib: 3.3.3\n",
      "plotnine  : 0.7.1\n",
      "\n",
      "Watermark: 2.1.0\n",
      "\n"
     ]
    }
   ],
   "source": [
    "%load_ext watermark\n",
    "%watermark -n -u -v -iv -w"
   ]
  }
 ],
 "metadata": {
  "kernelspec": {
   "display_name": "Python 3",
   "language": "python",
   "name": "python3"
  },
  "language_info": {
   "codemirror_mode": {
    "name": "ipython",
    "version": 3
   },
   "file_extension": ".py",
   "mimetype": "text/x-python",
   "name": "python",
   "nbconvert_exporter": "python",
   "pygments_lexer": "ipython3",
   "version": "3.9.1"
  }
 },
 "nbformat": 4,
 "nbformat_minor": 5
}
