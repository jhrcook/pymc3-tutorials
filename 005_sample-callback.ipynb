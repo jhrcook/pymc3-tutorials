{
 "cells": [
  {
   "cell_type": "markdown",
   "id": "tribal-africa",
   "metadata": {},
   "source": [
    "# Sample callback\n",
    "\n",
    "[Tutorial](https://docs.pymc.io/notebooks/sampling_callback.html)"
   ]
  },
  {
   "cell_type": "code",
   "execution_count": 1,
   "id": "soviet-curtis",
   "metadata": {},
   "outputs": [],
   "source": [
    "import arviz as az\n",
    "import matplotlib.pyplot as plt\n",
    "import numpy as np\n",
    "import pandas as pd\n",
    "import plotnine as gg\n",
    "import pymc3 as pm\n",
    "\n",
    "%config InlineBackend.figure_format = \"retina\"\n",
    "RANDOM_SEED = 8927\n",
    "np.random.seed(RANDOM_SEED)\n",
    "az.style.use(\"arviz-darkgrid\")\n",
    "gg.theme_set(gg.theme_minimal)"
   ]
  }
 ],
 "metadata": {
  "kernelspec": {
   "display_name": "Python 3",
   "language": "python",
   "name": "python3"
  },
  "language_info": {
   "codemirror_mode": {
    "name": "ipython",
    "version": 3
   },
   "file_extension": ".py",
   "mimetype": "text/x-python",
   "name": "python",
   "nbconvert_exporter": "python",
   "pygments_lexer": "ipython3",
   "version": "3.9.1"
  }
 },
 "nbformat": 4,
 "nbformat_minor": 5
}
